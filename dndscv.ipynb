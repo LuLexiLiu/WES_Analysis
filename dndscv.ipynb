{
 "cells": [
  {
   "cell_type": "code",
   "execution_count": 16,
   "id": "97c8baed",
   "metadata": {},
   "outputs": [],
   "source": [
    "library('dndscv')"
   ]
  },
  {
   "cell_type": "code",
   "execution_count": 40,
   "id": "e4c168dd",
   "metadata": {},
   "outputs": [],
   "source": [
    "mut <- read.csv(\"./Example/dndscv/271.csv\",\n",
    "                  header=TRUE, \n",
    "                  )"
   ]
  },
  {
   "cell_type": "code",
   "execution_count": 41,
   "id": "727b316b",
   "metadata": {},
   "outputs": [
    {
     "data": {
      "text/html": [
       "<table class=\"dataframe\">\n",
       "<caption>A data.frame: 6 × 5</caption>\n",
       "<thead>\n",
       "\t<tr><th></th><th scope=col>sampleID</th><th scope=col>chr</th><th scope=col>pos</th><th scope=col>ref</th><th scope=col>mut</th></tr>\n",
       "\t<tr><th></th><th scope=col>&lt;int&gt;</th><th scope=col>&lt;chr&gt;</th><th scope=col>&lt;int&gt;</th><th scope=col>&lt;chr&gt;</th><th scope=col>&lt;chr&gt;</th></tr>\n",
       "</thead>\n",
       "<tbody>\n",
       "\t<tr><th scope=row>1</th><td>271</td><td>1</td><td>1051175</td><td>G </td><td>A </td></tr>\n",
       "\t<tr><th scope=row>2</th><td>271</td><td>1</td><td>1302025</td><td>T </td><td>C </td></tr>\n",
       "\t<tr><th scope=row>3</th><td>271</td><td>1</td><td>1355320</td><td>C </td><td>G </td></tr>\n",
       "\t<tr><th scope=row>4</th><td>271</td><td>1</td><td>1518959</td><td>G </td><td>A </td></tr>\n",
       "\t<tr><th scope=row>5</th><td>271</td><td>1</td><td>1918281</td><td>A </td><td>C </td></tr>\n",
       "\t<tr><th scope=row>6</th><td>271</td><td>1</td><td>3852469</td><td>AA</td><td>TT</td></tr>\n",
       "</tbody>\n",
       "</table>\n"
      ],
      "text/latex": [
       "A data.frame: 6 × 5\n",
       "\\begin{tabular}{r|lllll}\n",
       "  & sampleID & chr & pos & ref & mut\\\\\n",
       "  & <int> & <chr> & <int> & <chr> & <chr>\\\\\n",
       "\\hline\n",
       "\t1 & 271 & 1 & 1051175 & G  & A \\\\\n",
       "\t2 & 271 & 1 & 1302025 & T  & C \\\\\n",
       "\t3 & 271 & 1 & 1355320 & C  & G \\\\\n",
       "\t4 & 271 & 1 & 1518959 & G  & A \\\\\n",
       "\t5 & 271 & 1 & 1918281 & A  & C \\\\\n",
       "\t6 & 271 & 1 & 3852469 & AA & TT\\\\\n",
       "\\end{tabular}\n"
      ],
      "text/markdown": [
       "\n",
       "A data.frame: 6 × 5\n",
       "\n",
       "| <!--/--> | sampleID &lt;int&gt; | chr &lt;chr&gt; | pos &lt;int&gt; | ref &lt;chr&gt; | mut &lt;chr&gt; |\n",
       "|---|---|---|---|---|---|\n",
       "| 1 | 271 | 1 | 1051175 | G  | A  |\n",
       "| 2 | 271 | 1 | 1302025 | T  | C  |\n",
       "| 3 | 271 | 1 | 1355320 | C  | G  |\n",
       "| 4 | 271 | 1 | 1518959 | G  | A  |\n",
       "| 5 | 271 | 1 | 1918281 | A  | C  |\n",
       "| 6 | 271 | 1 | 3852469 | AA | TT |\n",
       "\n"
      ],
      "text/plain": [
       "  sampleID chr pos     ref mut\n",
       "1 271      1   1051175 G   A  \n",
       "2 271      1   1302025 T   C  \n",
       "3 271      1   1355320 C   G  \n",
       "4 271      1   1518959 G   A  \n",
       "5 271      1   1918281 A   C  \n",
       "6 271      1   3852469 AA  TT "
      ]
     },
     "metadata": {},
     "output_type": "display_data"
    }
   ],
   "source": [
    "head(mut)"
   ]
  },
  {
   "cell_type": "code",
   "execution_count": 43,
   "id": "2ffaf2c6",
   "metadata": {},
   "outputs": [
    {
     "name": "stderr",
     "output_type": "stream",
     "text": [
      "[1] Loading the environment...\n",
      "\n",
      "[2] Annotating the mutations...\n",
      "\n",
      "Warning message in dndscv(mut, refdb = \"refcds_hg38.rda\", max_coding_muts_per_sample = 10000):\n",
      "“Mutations observed in contiguous sites within a sample. Please annotate or remove dinucleotide or complex substitutions for best results.”\n",
      "    Note: 2 mutations removed for exceeding the limit of mutations per gene per sample (see the max_muts_per_gene_per_sample argument in dndscv)\n",
      "\n",
      "[3] Estimating global rates...\n",
      "\n",
      "[4] Running dNdSloc...\n",
      "\n",
      "[5] Running dNdScv...\n",
      "\n",
      "Warning message in theta.ml(Y, mu, sum(w), w, limit = control$maxit, trace = control$trace > :\n",
      "“iteration limit reached”\n",
      "Warning message in theta.ml(Y, mu, sum(w), w, limit = control$maxit, trace = control$trace > :\n",
      "“iteration limit reached”\n",
      "    Regression model for substitutions (theta = 82.1).\n",
      "\n",
      "    Regression model for indels (theta = 0.368)\n",
      "\n"
     ]
    }
   ],
   "source": [
    "Sampleout = dndscv(mut,\n",
    "                   refdb='refcds_hg38.rda',\n",
    "#                    max_muts_per_gene_per_sample = 5,\n",
    "#                    max_coding_muts_per_sample = 10000\n",
    "                  )"
   ]
  },
  {
   "cell_type": "code",
   "execution_count": 44,
   "id": "0fe78b07",
   "metadata": {},
   "outputs": [
    {
     "name": "stdout",
     "output_type": "stream",
     "text": [
      "      gene_name n_syn n_mis n_non n_spl n_ind wmis_cv wnon_cv wspl_cv wind_cv\n",
      "17163     TOP2B     0     0     0     0     2     0.0       0       0     182\n",
      "11285    OR51M1     0     1     0     0     1    57.9       0       0     122\n",
      "12607     PPM1J     0     1     0     0     1    35.5       0       0     184\n",
      "16147     SYTL3     0     1     0     0     1    31.8       0       0     192\n",
      "10321    NDUFA1     0     0     0     0     1     0.0       0       0    1686\n",
      "16234     TAOK3     0     1     0     0     1    22.4       0       0     175\n",
      "      pmis_cv ptrunc_cv pallsubs_cv  pind_cv qmis_cv qtrunc_cv qallsubs_cv\n",
      "17163  0.6904     0.879      0.9132 0.000214   0.941     0.988       0.999\n",
      "11285  0.0132     0.971      0.0464 0.008043   0.941     0.988       0.999\n",
      "12607  0.0228     0.941      0.0747 0.005387   0.941     0.988       0.999\n",
      "16147  0.0258     0.925      0.0828 0.005164   0.941     0.988       0.999\n",
      "10321  0.9324     0.973      0.9958 0.000592   0.941     0.988       0.999\n",
      "16234  0.0382     0.909      0.1161 0.005663   0.941     0.988       0.999\n",
      "      qind_cv pglobal_cv qglobal_cv\n",
      "17163       1    0.00186          1\n",
      "11285       1    0.00332          1\n",
      "12607       1    0.00355          1\n",
      "16147       1    0.00375          1\n",
      "10321       1    0.00498          1\n",
      "16234       1    0.00547          1\n"
     ]
    }
   ],
   "source": [
    "sel_cv = Sampleout$sel_cv\n",
    "print(head(sel_cv), digits = 3)"
   ]
  },
  {
   "cell_type": "code",
   "execution_count": null,
   "id": "ab413944",
   "metadata": {},
   "outputs": [],
   "source": []
  },
  {
   "cell_type": "code",
   "execution_count": null,
   "id": "f4cceb79",
   "metadata": {},
   "outputs": [],
   "source": []
  },
  {
   "cell_type": "code",
   "execution_count": null,
   "id": "9b5499d3",
   "metadata": {},
   "outputs": [],
   "source": []
  },
  {
   "cell_type": "code",
   "execution_count": null,
   "id": "64e2495a",
   "metadata": {},
   "outputs": [],
   "source": []
  }
 ],
 "metadata": {
  "kernelspec": {
   "display_name": "R",
   "language": "R",
   "name": "ir"
  },
  "language_info": {
   "codemirror_mode": "r",
   "file_extension": ".r",
   "mimetype": "text/x-r-source",
   "name": "R",
   "pygments_lexer": "r",
   "version": "4.2.2"
  }
 },
 "nbformat": 4,
 "nbformat_minor": 5
}
